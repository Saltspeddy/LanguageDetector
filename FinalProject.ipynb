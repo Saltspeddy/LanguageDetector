{
 "cells": [
  {
   "cell_type": "markdown",
   "id": "62fdb219-7235-4f3b-9a99-61e7c08df1de",
   "metadata": {},
   "source": [
    "# Imports and Dependencies"
   ]
  },
  {
   "cell_type": "code",
   "execution_count": 24,
   "id": "0e0d0ca6-88b3-411a-95e3-5e9cbe17d496",
   "metadata": {},
   "outputs": [],
   "source": [
    "import string\n",
    "import re\n",
    "import pandas as pd\n",
    "import json\n",
    "import numpy as np\n",
    "from tqdm import tqdm_notebook as tqdm\n",
    "\n",
    "import matplotlib.pyplot as plt\n",
    "from sklearn import metrics\n",
    "import seaborn as sns\n",
    "import scipy"
   ]
  },
  {
   "cell_type": "code",
   "execution_count": 25,
   "id": "7690a025-6f45-4a7f-8529-676c3299199a",
   "metadata": {},
   "outputs": [
    {
     "data": {
      "text/html": [
       "<div>\n",
       "<style scoped>\n",
       "    .dataframe tbody tr th:only-of-type {\n",
       "        vertical-align: middle;\n",
       "    }\n",
       "\n",
       "    .dataframe tbody tr th {\n",
       "        vertical-align: top;\n",
       "    }\n",
       "\n",
       "    .dataframe thead th {\n",
       "        text-align: right;\n",
       "    }\n",
       "</style>\n",
       "<table border=\"1\" class=\"dataframe\">\n",
       "  <thead>\n",
       "    <tr style=\"text-align: right;\">\n",
       "      <th></th>\n",
       "      <th>Text</th>\n",
       "      <th>Language</th>\n",
       "    </tr>\n",
       "  </thead>\n",
       "  <tbody>\n",
       "    <tr>\n",
       "      <th>0</th>\n",
       "      <td>Nature, in the broadest sense, is the natural...</td>\n",
       "      <td>English</td>\n",
       "    </tr>\n",
       "    <tr>\n",
       "      <th>1</th>\n",
       "      <td>\"Nature\" can refer to the phenomena of the phy...</td>\n",
       "      <td>English</td>\n",
       "    </tr>\n",
       "    <tr>\n",
       "      <th>2</th>\n",
       "      <td>The study of nature is a large, if not the onl...</td>\n",
       "      <td>English</td>\n",
       "    </tr>\n",
       "    <tr>\n",
       "      <th>3</th>\n",
       "      <td>Although humans are part of nature, human acti...</td>\n",
       "      <td>English</td>\n",
       "    </tr>\n",
       "    <tr>\n",
       "      <th>4</th>\n",
       "      <td>[1] The word nature is borrowed from the Old F...</td>\n",
       "      <td>English</td>\n",
       "    </tr>\n",
       "  </tbody>\n",
       "</table>\n",
       "</div>"
      ],
      "text/plain": [
       "                                                Text Language\n",
       "0   Nature, in the broadest sense, is the natural...  English\n",
       "1  \"Nature\" can refer to the phenomena of the phy...  English\n",
       "2  The study of nature is a large, if not the onl...  English\n",
       "3  Although humans are part of nature, human acti...  English\n",
       "4  [1] The word nature is borrowed from the Old F...  English"
      ]
     },
     "execution_count": 25,
     "metadata": {},
     "output_type": "execute_result"
    }
   ],
   "source": [
    "df = pd.read_csv('./dataset/Language Detection.csv')\n",
    "df.head()"
   ]
  },
  {
   "cell_type": "code",
   "execution_count": 26,
   "id": "f3a1afcb-ff2d-4ca8-a2c2-6e2f1331b956",
   "metadata": {},
   "outputs": [],
   "source": [
    "X = df['Text']\n",
    "y= df['Language']"
   ]
  },
  {
   "cell_type": "code",
   "execution_count": 27,
   "id": "072da808-bc60-46ab-a7c1-6692b6c05feb",
   "metadata": {},
   "outputs": [],
   "source": [
    "from sklearn.preprocessing import LabelEncoder\n",
    "le = LabelEncoder()\n",
    "y = le.fit_transform(y)"
   ]
  },
  {
   "cell_type": "code",
   "execution_count": 28,
   "id": "e57b4b73-4f74-43d2-a487-9ab507f307c9",
   "metadata": {},
   "outputs": [
    {
     "data": {
      "text/plain": [
       "['nature in the broadest sense is the natural physical material world or universe',\n",
       " 'nature can refer to the phenomena of the physical world and also to life in general',\n",
       " 'the study of nature is a large if not the only part of science',\n",
       " 'although humans are part of nature human activity is often understood as a separate category from other natural phenomena',\n",
       " '1 the word nature is borrowed from the old french nature and is derived from the latin word natura or essential qualities innate disposition and in ancient times literally meant birth']"
      ]
     },
     "execution_count": 28,
     "metadata": {},
     "output_type": "execute_result"
    }
   ],
   "source": [
    "df_list = []\n",
    "for text in X:\n",
    "     \n",
    "    text = re.sub(r'([^a-zA-Z0-9\\s])', ' ', text)\n",
    "    text = re.sub(r'\\s+', ' ', text).strip()  \n",
    "    text = text.lower()\n",
    "    df_list.append(text)   \n",
    "\n",
    "df_list[:5]"
   ]
  },
  {
   "cell_type": "code",
   "execution_count": 31,
   "id": "a9b1bf3a-233a-46bb-a7e0-2f870a02b85d",
   "metadata": {},
   "outputs": [
    {
     "name": "stdout",
     "output_type": "stream",
     "text": [
      "(10337, 5000)\n"
     ]
    },
    {
     "data": {
      "text/plain": [
       "10337"
      ]
     },
     "execution_count": 31,
     "metadata": {},
     "output_type": "execute_result"
    }
   ],
   "source": [
    "from sklearn.feature_extraction.text import CountVectorizer\n",
    "cv = CountVectorizer(max_features=5000, dtype='int32')\n",
    "X = cv.fit_transform(df_list) \n",
    "print(X.shape) \n",
    "len(df_list)"
   ]
  },
  {
   "cell_type": "code",
   "execution_count": 32,
   "id": "d6ea49c2-b721-425e-af6e-ab5681903759",
   "metadata": {},
   "outputs": [],
   "source": [
    "from sklearn.model_selection import train_test_split\n",
    "\n",
    "X_train, X_test, y_train, y_test = train_test_split(X, y, test_size = .2, random_state = 41)"
   ]
  },
  {
   "cell_type": "code",
   "execution_count": 33,
   "id": "e03b08c5-5005-4dd4-a565-1bfbd3df01fc",
   "metadata": {
    "scrolled": true
   },
   "outputs": [],
   "source": [
    "from sklearn.linear_model import LogisticRegression\n",
    "model = LogisticRegression(solver='liblinear')  # 'liblinear' or 'saga'\n",
    "y_pred = model.fit(X_train, y_train).predict(X_test)"
   ]
  },
  {
   "cell_type": "code",
   "execution_count": 34,
   "id": "26825649-e602-4cdb-9b78-b953ed930051",
   "metadata": {},
   "outputs": [],
   "source": [
    "from sklearn.metrics import f1_score, confusion_matrix\n",
    "ac = f1_score(y_test, y_pred, average = 'macro')"
   ]
  },
  {
   "cell_type": "code",
   "execution_count": 35,
   "id": "e3d4e229-d5c3-43b7-917f-e9e4995ba21d",
   "metadata": {},
   "outputs": [],
   "source": [
    "def prediction(text):\n",
    "    x = cv.transform([text]).toarray()  # Transform input text\n",
    "    lang = model.predict(x)   # Use lowercase 'x' (not 'X')\n",
    "    try:\n",
    "        decoded = le.inverse_transform(lang)\n",
    "    except ValueError:\n",
    "        decoded = lang  # fallback if unseen\n",
    "    print('The language is:', decoded)\n",
    "\n"
   ]
  },
  {
   "cell_type": "code",
   "execution_count": null,
   "id": "15646fce-68c1-4dfc-8f66-bc5ec58ae1fa",
   "metadata": {},
   "outputs": [],
   "source": []
  },
  {
   "cell_type": "code",
   "execution_count": 38,
   "id": "e0c674c4-d783-40db-9a7f-7dc528fe2aa4",
   "metadata": {},
   "outputs": [
    {
     "name": "stdout",
     "output_type": "stream",
     "text": [
      "The language is: ['Italian']\n"
     ]
    }
   ],
   "source": [
    "prediction('\"Il gatto dormiva tranquillamente sul davanzale mentre fuori pioveva')"
   ]
  },
  {
   "cell_type": "code",
   "execution_count": 39,
   "id": "aacfa6f7-f7bf-415d-ba75-b52a960e508b",
   "metadata": {},
   "outputs": [
    {
     "name": "stdout",
     "output_type": "stream",
     "text": [
      "The language is: ['English']\n"
     ]
    }
   ],
   "source": [
    "prediction('The old bicycle creaked as it rolled down the quiet, cobblestone street')"
   ]
  },
  {
   "cell_type": "code",
   "execution_count": 46,
   "id": "18078f94-d62c-424b-a799-ca045643b534",
   "metadata": {
    "scrolled": true
   },
   "outputs": [
    {
     "name": "stdout",
     "output_type": "stream",
     "text": [
      "The language is: ['Turkish']\n"
     ]
    }
   ],
   "source": [
    "prediction('bu yüzden bu, bir sohbetin ortasındayken yine neredeydik pratik yapmanın harika bir yolu?')"
   ]
  },
  {
   "cell_type": "code",
   "execution_count": 45,
   "id": "5ada6c81-8752-425d-9d38-3cfe752d076f",
   "metadata": {},
   "outputs": [
    {
     "name": "stdout",
     "output_type": "stream",
     "text": [
      "The language is: ['Russian']\n"
     ]
    }
   ],
   "source": [
    "prediction('')"
   ]
  },
  {
   "cell_type": "code",
   "execution_count": 41,
   "id": "27d46a19-99a8-4a6b-82a3-d4e181d2823a",
   "metadata": {},
   "outputs": [
    {
     "name": "stdout",
     "output_type": "stream",
     "text": [
      "Original language labels: ['English' 'Malayalam' 'Hindi' 'Tamil' 'Portugeese' 'French' 'Dutch'\n",
      " 'Spanish' 'Greek' 'Russian' 'Danish' 'Italian' 'Turkish' 'Sweedish'\n",
      " 'Arabic' 'German' 'Kannada']\n"
     ]
    }
   ],
   "source": [
    "print(\"Original language labels:\", df['Language'].unique()) "
   ]
  },
  {
   "cell_type": "code",
   "execution_count": 74,
   "id": "d3b43b93-4150-45f6-976f-1eb093194315",
   "metadata": {},
   "outputs": [
    {
     "name": "stdout",
     "output_type": "stream",
     "text": [
      "The language is: ['Russian']\n"
     ]
    }
   ],
   "source": [
    "prediction('Ett gammalt fotografi låg gömt i lådan.')"
   ]
  },
  {
   "cell_type": "code",
   "execution_count": null,
   "id": "215e059b-9d45-40ff-a2b7-63926ec1388b",
   "metadata": {},
   "outputs": [],
   "source": []
  }
 ],
 "metadata": {
  "kernelspec": {
   "display_name": "Python 3 (ipykernel)",
   "language": "python",
   "name": "python3"
  },
  "language_info": {
   "codemirror_mode": {
    "name": "ipython",
    "version": 3
   },
   "file_extension": ".py",
   "mimetype": "text/x-python",
   "name": "python",
   "nbconvert_exporter": "python",
   "pygments_lexer": "ipython3",
   "version": "3.9.21"
  }
 },
 "nbformat": 4,
 "nbformat_minor": 5
}
