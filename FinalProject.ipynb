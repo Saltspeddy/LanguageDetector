{
 "cells": [
  {
   "cell_type": "markdown",
   "id": "62fdb219-7235-4f3b-9a99-61e7c08df1de",
   "metadata": {},
   "source": [
    "# Imports and Dependencies"
   ]
  },
  {
   "cell_type": "code",
   "execution_count": 1,
   "id": "38a98639-4da9-4312-93cb-cc83342923cc",
   "metadata": {},
   "outputs": [],
   "source": [
    "import string\n",
    "import re\n",
    "import pandas as pd\n",
    "import json\n",
    "import numpy as np\n",
    "from tqdm import tqdm_notebook as tqdm\n",
    "\n",
    "import matplotlib.pyplot as plt\n",
    "from sklearn import metrics\n",
    "import seaborn as sns\n",
    "import scipy"
   ]
  },
  {
   "cell_type": "code",
   "execution_count": 2,
   "id": "7690a025-6f45-4a7f-8529-676c3299199a",
   "metadata": {},
   "outputs": [
    {
     "data": {
      "text/html": [
       "<div>\n",
       "<style scoped>\n",
       "    .dataframe tbody tr th:only-of-type {\n",
       "        vertical-align: middle;\n",
       "    }\n",
       "\n",
       "    .dataframe tbody tr th {\n",
       "        vertical-align: top;\n",
       "    }\n",
       "\n",
       "    .dataframe thead th {\n",
       "        text-align: right;\n",
       "    }\n",
       "</style>\n",
       "<table border=\"1\" class=\"dataframe\">\n",
       "  <thead>\n",
       "    <tr style=\"text-align: right;\">\n",
       "      <th></th>\n",
       "      <th>Text</th>\n",
       "      <th>Language</th>\n",
       "    </tr>\n",
       "  </thead>\n",
       "  <tbody>\n",
       "    <tr>\n",
       "      <th>0</th>\n",
       "      <td>Nature, in the broadest sense, is the natural...</td>\n",
       "      <td>English</td>\n",
       "    </tr>\n",
       "    <tr>\n",
       "      <th>1</th>\n",
       "      <td>\"Nature\" can refer to the phenomena of the phy...</td>\n",
       "      <td>English</td>\n",
       "    </tr>\n",
       "    <tr>\n",
       "      <th>2</th>\n",
       "      <td>The study of nature is a large, if not the onl...</td>\n",
       "      <td>English</td>\n",
       "    </tr>\n",
       "    <tr>\n",
       "      <th>3</th>\n",
       "      <td>Although humans are part of nature, human acti...</td>\n",
       "      <td>English</td>\n",
       "    </tr>\n",
       "    <tr>\n",
       "      <th>4</th>\n",
       "      <td>[1] The word nature is borrowed from the Old F...</td>\n",
       "      <td>English</td>\n",
       "    </tr>\n",
       "  </tbody>\n",
       "</table>\n",
       "</div>"
      ],
      "text/plain": [
       "                                                Text Language\n",
       "0   Nature, in the broadest sense, is the natural...  English\n",
       "1  \"Nature\" can refer to the phenomena of the phy...  English\n",
       "2  The study of nature is a large, if not the onl...  English\n",
       "3  Although humans are part of nature, human acti...  English\n",
       "4  [1] The word nature is borrowed from the Old F...  English"
      ]
     },
     "execution_count": 2,
     "metadata": {},
     "output_type": "execute_result"
    }
   ],
   "source": [
    "df = pd.read_csv('./dataset/Language Detection.csv')\n",
    "# df = pd.read_csv('./archive/dataset.csv')\n",
    "df.head()"
   ]
  },
  {
   "cell_type": "code",
   "execution_count": 3,
   "id": "f3a1afcb-ff2d-4ca8-a2c2-6e2f1331b956",
   "metadata": {},
   "outputs": [],
   "source": [
    "X = df['Text']\n",
    "y= df['Language']"
   ]
  },
  {
   "cell_type": "code",
   "execution_count": 4,
   "id": "072da808-bc60-46ab-a7c1-6692b6c05feb",
   "metadata": {},
   "outputs": [],
   "source": [
    "from sklearn.preprocessing import LabelEncoder\n",
    "le = LabelEncoder()\n",
    "y = le.fit_transform(y)"
   ]
  },
  {
   "cell_type": "code",
   "execution_count": 5,
   "id": "e57b4b73-4f74-43d2-a487-9ab507f307c9",
   "metadata": {},
   "outputs": [
    {
     "data": {
      "text/plain": [
       "['nature, in the broadest sense, is the natural, physical, material world or universe.',\n",
       " '\"nature\" can refer to the phenomena of the physical world, and also to life in general.',\n",
       " 'the study of nature is a large, if not the only, part of science.',\n",
       " 'although humans are part of nature, human activity is often understood as a separate category from other natural phenomena.',\n",
       " '[1] the word nature is borrowed from the old french nature and is derived from the latin word natura, or \"essential qualities, innate disposition\", and in ancient times, literally meant \"birth\".']"
      ]
     },
     "execution_count": 5,
     "metadata": {},
     "output_type": "execute_result"
    }
   ],
   "source": [
    "df_list = []\n",
    "for text in X:\n",
    "     \n",
    "    text = re.sub(r'\\s+', ' ', text).strip()\n",
    "    text = text.lower()\n",
    "    df_list.append(text)   \n",
    "\n",
    "df_list[:5]"
   ]
  },
  {
   "cell_type": "code",
   "execution_count": 6,
   "id": "a9b1bf3a-233a-46bb-a7e0-2f870a02b85d",
   "metadata": {},
   "outputs": [
    {
     "name": "stdout",
     "output_type": "stream",
     "text": [
      "(10337, 9000)\n"
     ]
    },
    {
     "data": {
      "text/plain": [
       "10337"
      ]
     },
     "execution_count": 6,
     "metadata": {},
     "output_type": "execute_result"
    }
   ],
   "source": [
    "from sklearn.feature_extraction.text import CountVectorizer\n",
    "cv = CountVectorizer(max_features=9000, dtype='int32')\n",
    "X = cv.fit_transform(df_list) \n",
    "print(X.shape) \n",
    "len(df_list)"
   ]
  },
  {
   "cell_type": "code",
   "execution_count": 7,
   "id": "d6ea49c2-b721-425e-af6e-ab5681903759",
   "metadata": {},
   "outputs": [],
   "source": [
    "from sklearn.model_selection import train_test_split\n",
    "\n",
    "X_train, X_test, y_train, y_test = train_test_split(X, y, test_size = .2, random_state = 41)"
   ]
  },
  {
   "cell_type": "code",
   "execution_count": 8,
   "id": "e03b08c5-5005-4dd4-a565-1bfbd3df01fc",
   "metadata": {
    "scrolled": true
   },
   "outputs": [],
   "source": [
    "from sklearn.linear_model import LogisticRegression\n",
    "model = LogisticRegression(solver='liblinear') \n",
    "y_pred = model.fit(X_train, y_train).predict(X_test)"
   ]
  },
  {
   "cell_type": "code",
   "execution_count": 9,
   "id": "26825649-e602-4cdb-9b78-b953ed930051",
   "metadata": {},
   "outputs": [],
   "source": [
    "from sklearn.metrics import f1_score, confusion_matrix\n",
    "ac = f1_score(y_test, y_pred, average = 'macro')"
   ]
  },
  {
   "cell_type": "code",
   "execution_count": null,
   "id": "3f8d7b9f-24ad-4196-8887-569d8178e11e",
   "metadata": {},
   "outputs": [],
   "source": []
  },
  {
   "cell_type": "markdown",
   "id": "b9e209f8-b915-4e5b-a585-aad603aeca55",
   "metadata": {},
   "source": [
    "# Prediction function for a given piece of text"
   ]
  },
  {
   "cell_type": "code",
   "execution_count": 37,
   "id": "e3d4e229-d5c3-43b7-917f-e9e4995ba21d",
   "metadata": {},
   "outputs": [],
   "source": [
    "def prediction(text, show_all_percentages=True, top_n=6):\n",
    "    x = cv.transform([text]).toarray() \n",
    "    lang = model.predict(x)\n",
    "    \n",
    "    # Get prediction probabilities\n",
    "    probabilities = model.predict_proba(x)[0]\n",
    "    \n",
    "    # Get the confidence percentage for the predicted language\n",
    "    predicted_lang_index = lang[0]\n",
    "    confidence_percentage = probabilities[predicted_lang_index] * 100\n",
    "\n",
    "    print('The text:', text)\n",
    "    print(f'Predicted language: {lang[0]} with {confidence_percentage:.1f}% confidence')\n",
    "    \n",
    "    if show_all_percentages:\n",
    "        print('All language percentages:')\n",
    "        # Get all language names and their probabilities\n",
    "        all_languages = le.classes_\n",
    "        language_probs = [(all_languages[i], probabilities[i] * 100) for i in range(len(all_languages))]\n",
    "        \n",
    "        # Sort by probability (highest first)\n",
    "        language_probs.sort(key=lambda x: x[1], reverse=True)\n",
    "        \n",
    "        # Show top N or all languages\n",
    "        languages_to_show = language_probs if not top_n else language_probs[:top_n]\n",
    "        \n",
    "        for lang_name, prob in languages_to_show:\n",
    "            print(f'  {lang_name}: {prob:.1f}%')\n",
    "    \n",
    "    print('-' * 50)"
   ]
  },
  {
   "cell_type": "code",
   "execution_count": 38,
   "id": "27d46a19-99a8-4a6b-82a3-d4e181d2823a",
   "metadata": {},
   "outputs": [
    {
     "name": "stdout",
     "output_type": "stream",
     "text": [
      "Original language labels: ['English' 'Malayalam' 'Hindi' 'Tamil' 'Portugeese' 'French' 'Dutch'\n",
      " 'Spanish' 'Greek' 'Russian' 'Danish' 'Italian' 'Turkish' 'Sweedish'\n",
      " 'Arabic' 'German' 'Kannada']\n"
     ]
    }
   ],
   "source": [
    "print(\"Original language labels:\", df['Language'].unique()) "
   ]
  },
  {
   "cell_type": "code",
   "execution_count": 39,
   "id": "d3b43b93-4150-45f6-976f-1eb093194315",
   "metadata": {},
   "outputs": [
    {
     "name": "stdout",
     "output_type": "stream",
     "text": [
      "The text: Je voudrais une tasse de café, sil vous plaît.\n",
      "Predicted language: 4 with 89.3% confidence\n",
      "All language percentages:\n",
      "  French: 89.3%\n",
      "  Dutch: 6.9%\n",
      "  Portugeese: 0.7%\n",
      "  Spanish: 0.4%\n",
      "  Turkish: 0.4%\n",
      "  Sweedish: 0.3%\n",
      "--------------------------------------------------\n",
      "The text: De-acuma nu te-oi mai vedea, Rămâi, rămâi, cu bine! Mă voi feri în calea mea De tine.\n",
      "Predicted language: 13 with 38.7% confidence\n",
      "All language percentages:\n",
      "  Spanish: 38.7%\n",
      "  Dutch: 28.5%\n",
      "  French: 17.5%\n",
      "  Portugeese: 7.9%\n",
      "  Turkish: 1.8%\n",
      "  Danish: 1.4%\n",
      "--------------------------------------------------\n",
      "The text: நான் ஒரு புதிய மொழியை கற்றுக்கொண்டு இருக்கிறேன். இது மிகவும் விருப்பமானதாக உள்ளது.\n",
      "Predicted language: 15 with 86.1% confidence\n",
      "All language percentages:\n",
      "  Tamil: 86.1%\n",
      "  Russian: 1.2%\n",
      "  Turkish: 1.2%\n",
      "  Arabic: 1.0%\n",
      "  Spanish: 1.0%\n",
      "  Kannada: 1.0%\n",
      "--------------------------------------------------\n",
      "The text: मैं एक नई भाषा सीख रहा हूँ। यह बहुत रोचक है।\n",
      "Predicted language: 7 with 65.7% confidence\n",
      "All language percentages:\n",
      "  Hindi: 65.7%\n",
      "  Russian: 3.6%\n",
      "  Turkish: 3.3%\n",
      "  Spanish: 2.4%\n",
      "  Arabic: 2.4%\n",
      "  Kannada: 2.3%\n",
      "--------------------------------------------------\n",
      "The text: أنا أتعلم لغة جديدة. إنها ممتعة جدًا.\n",
      "Predicted language: 0 with 61.3% confidence\n",
      "All language percentages:\n",
      "  Arabic: 61.3%\n",
      "  Russian: 4.5%\n",
      "  Turkish: 4.0%\n",
      "  Spanish: 2.9%\n",
      "  Kannada: 2.8%\n",
      "  Malayalam: 2.6%\n",
      "--------------------------------------------------\n",
      "The text: bu yüzden bu, bir sohbetin ortasındayken yine neredeydik pratik yapmanın harika bir yolu?\n",
      "Predicted language: 16 with 96.2% confidence\n",
      "All language percentages:\n",
      "  Turkish: 96.2%\n",
      "  Malayalam: 0.3%\n",
      "  Kannada: 0.3%\n",
      "  Greek: 0.3%\n",
      "  Arabic: 0.3%\n",
      "  Tamil: 0.3%\n",
      "--------------------------------------------------\n",
      "The text: Я изучаю новый язык. Это очень интересно.\n",
      "Predicted language: 12 with 74.3% confidence\n",
      "All language percentages:\n",
      "  Russian: 74.3%\n",
      "  Turkish: 2.7%\n",
      "  Spanish: 2.0%\n",
      "  Arabic: 2.0%\n",
      "  Kannada: 1.9%\n",
      "  Malayalam: 1.8%\n",
      "--------------------------------------------------\n"
     ]
    }
   ],
   "source": [
    "testSentences = ['Je voudrais une tasse de café, sil vous plaît.','De-acuma nu te-oi mai vedea, Rămâi, rămâi, cu bine! Mă voi feri în calea mea De tine.','நான் ஒரு புதிய மொழியை கற்றுக்கொண்டு இருக்கிறேன். இது மிகவும் விருப்பமானதாக உள்ளது.','मैं एक नई भाषा सीख रहा हूँ। यह बहुत रोचक है।', 'أنا أتعلم لغة جديدة. إنها ممتعة جدًا.','bu yüzden bu, bir sohbetin ortasındayken yine neredeydik pratik yapmanın harika bir yolu?','Я изучаю новый язык. Это очень интересно.']\n",
    "for language in testSentences:\n",
    "    prediction(language)"
   ]
  },
  {
   "cell_type": "code",
   "execution_count": 36,
   "id": "da87dac8-3aa2-4161-a1ae-0c3e593fb627",
   "metadata": {},
   "outputs": [
    {
     "name": "stdout",
     "output_type": "stream",
     "text": [
      "The text: Ik leer Nederlands en ik vind het leuk.\n",
      "Predicted language: 2 with 94.2% confidence\n",
      "All language percentages:\n",
      "  Dutch: 94.2%\n",
      "  Spanish: 0.8%\n",
      "  Sweedish: 0.8%\n",
      "  Danish: 0.5%\n",
      "  Turkish: 0.4%\n",
      "--------------------------------------------------\n"
     ]
    }
   ],
   "source": [
    "prediction('Ik leer Nederlands en ik vind het leuk.')"
   ]
  },
  {
   "cell_type": "code",
   "execution_count": null,
   "id": "356ed032-70d2-47cb-95e3-c5163892d5b7",
   "metadata": {},
   "outputs": [],
   "source": []
  }
 ],
 "metadata": {
  "kernelspec": {
   "display_name": "Python 3 (ipykernel)",
   "language": "python",
   "name": "python3"
  },
  "language_info": {
   "codemirror_mode": {
    "name": "ipython",
    "version": 3
   },
   "file_extension": ".py",
   "mimetype": "text/x-python",
   "name": "python",
   "nbconvert_exporter": "python",
   "pygments_lexer": "ipython3",
   "version": "3.9.21"
  }
 },
 "nbformat": 4,
 "nbformat_minor": 5
}
