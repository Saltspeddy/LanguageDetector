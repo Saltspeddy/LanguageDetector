{
 "cells": [
  {
   "cell_type": "markdown",
   "id": "62fdb219-7235-4f3b-9a99-61e7c08df1de",
   "metadata": {},
   "source": [
    "# Imports and Dependencies"
   ]
  },
  {
   "cell_type": "code",
   "execution_count": null,
   "id": "3186f900-df08-4b88-bfb3-58e739bfc5fc",
   "metadata": {},
   "outputs": [],
   "source": []
  },
  {
   "cell_type": "code",
   "execution_count": 4,
   "id": "0e0d0ca6-88b3-411a-95e3-5e9cbe17d496",
   "metadata": {},
   "outputs": [],
   "source": [
    "import string\n",
    "import re\n",
    "import pandas as pd\n",
    "import json\n",
    "import numpy as np\n",
    "from tqdm import tqdm_notebook as tqdm\n",
    "\n",
    "import matplotlib.pyplot as plt\n",
    "from sklearn import metrics\n",
    "import seaborn as sns\n",
    "import scipy"
   ]
  },
  {
   "cell_type": "code",
   "execution_count": 5,
   "id": "7690a025-6f45-4a7f-8529-676c3299199a",
   "metadata": {},
   "outputs": [
    {
     "data": {
      "text/html": [
       "<div>\n",
       "<style scoped>\n",
       "    .dataframe tbody tr th:only-of-type {\n",
       "        vertical-align: middle;\n",
       "    }\n",
       "\n",
       "    .dataframe tbody tr th {\n",
       "        vertical-align: top;\n",
       "    }\n",
       "\n",
       "    .dataframe thead th {\n",
       "        text-align: right;\n",
       "    }\n",
       "</style>\n",
       "<table border=\"1\" class=\"dataframe\">\n",
       "  <thead>\n",
       "    <tr style=\"text-align: right;\">\n",
       "      <th></th>\n",
       "      <th>Text</th>\n",
       "      <th>language</th>\n",
       "    </tr>\n",
       "  </thead>\n",
       "  <tbody>\n",
       "    <tr>\n",
       "      <th>0</th>\n",
       "      <td>klement gottwaldi surnukeha palsameeriti ning ...</td>\n",
       "      <td>Estonian</td>\n",
       "    </tr>\n",
       "    <tr>\n",
       "      <th>1</th>\n",
       "      <td>sebes joseph pereira thomas  på eng the jesuit...</td>\n",
       "      <td>Swedish</td>\n",
       "    </tr>\n",
       "    <tr>\n",
       "      <th>2</th>\n",
       "      <td>ถนนเจริญกรุง อักษรโรมัน thanon charoen krung เ...</td>\n",
       "      <td>Thai</td>\n",
       "    </tr>\n",
       "    <tr>\n",
       "      <th>3</th>\n",
       "      <td>விசாகப்பட்டினம் தமிழ்ச்சங்கத்தை இந்துப் பத்திர...</td>\n",
       "      <td>Tamil</td>\n",
       "    </tr>\n",
       "    <tr>\n",
       "      <th>4</th>\n",
       "      <td>de spons behoort tot het geslacht haliclona en...</td>\n",
       "      <td>Dutch</td>\n",
       "    </tr>\n",
       "  </tbody>\n",
       "</table>\n",
       "</div>"
      ],
      "text/plain": [
       "                                                Text  language\n",
       "0  klement gottwaldi surnukeha palsameeriti ning ...  Estonian\n",
       "1  sebes joseph pereira thomas  på eng the jesuit...   Swedish\n",
       "2  ถนนเจริญกรุง อักษรโรมัน thanon charoen krung เ...      Thai\n",
       "3  விசாகப்பட்டினம் தமிழ்ச்சங்கத்தை இந்துப் பத்திர...     Tamil\n",
       "4  de spons behoort tot het geslacht haliclona en...     Dutch"
      ]
     },
     "execution_count": 5,
     "metadata": {},
     "output_type": "execute_result"
    }
   ],
   "source": [
    "df = pd.read_csv('./archive/dataset.csv')\n",
    "df.head()"
   ]
  },
  {
   "cell_type": "code",
   "execution_count": 6,
   "id": "f3a1afcb-ff2d-4ca8-a2c2-6e2f1331b956",
   "metadata": {},
   "outputs": [],
   "source": [
    "X = df['Text']\n",
    "y= df['language']"
   ]
  },
  {
   "cell_type": "code",
   "execution_count": 7,
   "id": "072da808-bc60-46ab-a7c1-6692b6c05feb",
   "metadata": {},
   "outputs": [],
   "source": [
    "from sklearn.preprocessing import LabelEncoder\n",
    "le = LabelEncoder()\n",
    "y = le.fit_transform(y)"
   ]
  },
  {
   "cell_type": "code",
   "execution_count": 8,
   "id": "e57b4b73-4f74-43d2-a487-9ab507f307c9",
   "metadata": {},
   "outputs": [
    {
     "data": {
      "text/plain": [
       "['klement gottwaldi surnukeha palsameeriti ning paigutati mausoleumi surnukeha oli aga liiga hilja ja oskamatult palsameeritud ning hakkas ilmutama lagunemise tundem rke aastal viidi ta surnukeha mausoleumist ra ja kremeeriti zl ni linn kandis aastatel nime gottwaldov ukrainas harkivi oblastis kandis zmiivi linn aastatel nime gotvald',\n",
       " 'sebes joseph pereira thomas p eng the jesuits and the sino russian treaty of nerchinsk the diary of thomas pereira bibliotheca instituti historici s i rome libris',\n",
       " 'thanon charoen krung',\n",
       " '',\n",
       " 'de spons behoort tot het geslacht haliclona en behoort tot de familie chalinidae de wetenschappelijke naam van de soort werd voor het eerst geldig gepubliceerd in door kudelin']"
      ]
     },
     "execution_count": 8,
     "metadata": {},
     "output_type": "execute_result"
    }
   ],
   "source": [
    "df_list = []\n",
    "for text in X:\n",
    "     \n",
    "    text = re.sub(r'([^a-zA-Z0-9\\s])', ' ', text)\n",
    "    text = re.sub(r'\\s+', ' ', text).strip()  \n",
    "    text = text.lower()\n",
    "    df_list.append(text)   \n",
    "\n",
    "df_list[:5]"
   ]
  },
  {
   "cell_type": "code",
   "execution_count": 9,
   "id": "a9b1bf3a-233a-46bb-a7e0-2f870a02b85d",
   "metadata": {},
   "outputs": [
    {
     "name": "stdout",
     "output_type": "stream",
     "text": [
      "(22000, 5000)\n"
     ]
    },
    {
     "data": {
      "text/plain": [
       "22000"
      ]
     },
     "execution_count": 9,
     "metadata": {},
     "output_type": "execute_result"
    }
   ],
   "source": [
    "from sklearn.feature_extraction.text import CountVectorizer\n",
    "cv = CountVectorizer(max_features=5000, dtype='int32')\n",
    "X = cv.fit_transform(df_list[:22000]) \n",
    "print(X.shape) \n",
    "len(df_list)"
   ]
  },
  {
   "cell_type": "code",
   "execution_count": 10,
   "id": "d6ea49c2-b721-425e-af6e-ab5681903759",
   "metadata": {},
   "outputs": [],
   "source": [
    "from sklearn.model_selection import train_test_split\n",
    "\n",
    "X_train, X_test, y_train, y_test = train_test_split(X, y, test_size = .2, random_state = 41)"
   ]
  },
  {
   "cell_type": "code",
   "execution_count": 11,
   "id": "e03b08c5-5005-4dd4-a565-1bfbd3df01fc",
   "metadata": {
    "scrolled": true
   },
   "outputs": [],
   "source": [
    "from sklearn.linear_model import LogisticRegression\n",
    "model = LogisticRegression(solver='liblinear')  # 'liblinear' or 'saga'\n",
    "y_pred = model.fit(X_train, y_train).predict(X_test)"
   ]
  },
  {
   "cell_type": "code",
   "execution_count": 12,
   "id": "26825649-e602-4cdb-9b78-b953ed930051",
   "metadata": {},
   "outputs": [],
   "source": [
    "from sklearn.metrics import f1_score, confusion_matrix\n",
    "ac = f1_score(y_test, y_pred, average = 'macro')"
   ]
  },
  {
   "cell_type": "code",
   "execution_count": 15,
   "id": "e3d4e229-d5c3-43b7-917f-e9e4995ba21d",
   "metadata": {},
   "outputs": [],
   "source": [
    "def prediction(text):\n",
    "    x = cv.transform([text]).toarray()  # Transform input text\n",
    "    lang = model.predict(x)   # Use lowercase 'x' (not 'X')\n",
    "    try:\n",
    "        decoded = le.inverse_transform(lang)\n",
    "    except ValueError:\n",
    "        decoded = lang  # fallback if unseen\n",
    "    print('The language is:', decoded)\n",
    "\n"
   ]
  },
  {
   "cell_type": "code",
   "execution_count": null,
   "id": "15646fce-68c1-4dfc-8f66-bc5ec58ae1fa",
   "metadata": {},
   "outputs": [],
   "source": []
  },
  {
   "cell_type": "code",
   "execution_count": 18,
   "id": "e0c674c4-d783-40db-9a7f-7dc528fe2aa4",
   "metadata": {},
   "outputs": [
    {
     "name": "stdout",
     "output_type": "stream",
     "text": [
      "The language is: ['Urdu']\n"
     ]
    }
   ],
   "source": [
    "prediction('Salutare Baiatul meu tocmai a crescut si trebuie sa se angajeze la firma dumneavoastră')"
   ]
  },
  {
   "cell_type": "code",
   "execution_count": 20,
   "id": "aacfa6f7-f7bf-415d-ba75-b52a960e508b",
   "metadata": {},
   "outputs": [
    {
     "name": "stdout",
     "output_type": "stream",
     "text": [
      "The language is: ['Japanese']\n"
     ]
    }
   ],
   "source": [
    "prediction('Je mens en militant avec laide de Belzébuth')"
   ]
  },
  {
   "cell_type": "code",
   "execution_count": 21,
   "id": "27d46a19-99a8-4a6b-82a3-d4e181d2823a",
   "metadata": {},
   "outputs": [
    {
     "name": "stdout",
     "output_type": "stream",
     "text": [
      "Original language labels: ['Estonian' 'Swedish' 'Thai' 'Tamil' 'Dutch' 'Japanese' 'Turkish' 'Latin'\n",
      " 'Urdu' 'Indonesian' 'Portugese' 'French' 'Chinese' 'Korean' 'Hindi'\n",
      " 'Spanish' 'Pushto' 'Persian' 'Romanian' 'Russian' 'English' 'Arabic']\n"
     ]
    }
   ],
   "source": [
    "print(\"Original language labels:\", df['language'].unique())  # Should show ['en', 'fr', 'de', ...]"
   ]
  },
  {
   "cell_type": "code",
   "execution_count": null,
   "id": "d3b43b93-4150-45f6-976f-1eb093194315",
   "metadata": {},
   "outputs": [],
   "source": []
  },
  {
   "cell_type": "code",
   "execution_count": null,
   "id": "215e059b-9d45-40ff-a2b7-63926ec1388b",
   "metadata": {},
   "outputs": [],
   "source": []
  }
 ],
 "metadata": {
  "kernelspec": {
   "display_name": "Python 3 (ipykernel)",
   "language": "python",
   "name": "python3"
  },
  "language_info": {
   "codemirror_mode": {
    "name": "ipython",
    "version": 3
   },
   "file_extension": ".py",
   "mimetype": "text/x-python",
   "name": "python",
   "nbconvert_exporter": "python",
   "pygments_lexer": "ipython3",
   "version": "3.9.21"
  }
 },
 "nbformat": 4,
 "nbformat_minor": 5
}
